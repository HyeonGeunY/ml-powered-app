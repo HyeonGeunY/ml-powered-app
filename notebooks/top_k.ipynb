{
 "cells": [
  {
   "cell_type": "markdown",
   "metadata": {},
   "source": [
    "# Top-k"
   ]
  },
  {
   "cell_type": "markdown",
   "metadata": {},
   "source": [
    "모델의 결과를 조사하는 유용한 방법. 가장 성공적인 샘플과 가장 실패하는 샘플, 불확실한 샘플을 살펴보고 패턴을 찾는다."
   ]
  },
  {
   "cell_type": "code",
   "execution_count": 10,
   "metadata": {},
   "outputs": [
    {
     "name": "stdout",
     "output_type": "stream",
     "text": [
      "The autoreload extension is already loaded. To reload it, use:\n",
      "  %reload_ext autoreload\n"
     ]
    }
   ],
   "source": [
    "import pandas as pd\n",
    "import numpy as np\n",
    "import matplotlib.pyplot as plt\n",
    "from pathlib import Path\n",
    "import joblib\n",
    "\n",
    "import sys\n",
    "sys.path.append(\"..\")\n",
    "import warnings\n",
    "warnings.filterwarnings('ignore')\n",
    "\n",
    "%matplotlib inline\n",
    "%load_ext autoreload\n",
    "%autoreload 2\n",
    "\n",
    "from ml_editor.data_processing import (\n",
    "    format_raw_df, get_split_by_author, \n",
    "    add_text_features_to_df, \n",
    "    get_vectorized_series, \n",
    "    get_feature_vector_and_label\n",
    ")\n",
    "from ml_editor.model_evaluation import get_top_k\n",
    "\n",
    "data_path = Path('./data/processed/writers/writers.csv')\n",
    "df = pd.read_csv(data_path, index_col=0)\n",
    "df = format_raw_df(df.copy())"
   ]
  },
  {
   "cell_type": "markdown",
   "metadata": {},
   "source": [
    "특성을 추가하고 데이터 셋을 분할"
   ]
  },
  {
   "cell_type": "code",
   "execution_count": 11,
   "metadata": {},
   "outputs": [],
   "source": [
    "df = add_text_features_to_df(df.loc[df[\"is_question\"]].copy())\n",
    "train_df, test_df = get_split_by_author(df, test_size=0.2, random_state=40)"
   ]
  },
  {
   "cell_type": "markdown",
   "metadata": {},
   "source": [
    "훈련된 모델을 로드하고 특성을 벡터화합니다."
   ]
  },
  {
   "cell_type": "code",
   "execution_count": 12,
   "metadata": {},
   "outputs": [],
   "source": [
    "model_path = Path(\"./models/model_1.pkl\")\n",
    "clf = joblib.load(model_path) \n",
    "vectorizer_path = Path(\"./models/vectorizer_1.pkl\")\n",
    "vectorizer = joblib.load(vectorizer_path) "
   ]
  },
  {
   "cell_type": "code",
   "execution_count": 13,
   "metadata": {},
   "outputs": [
    {
     "data": {
      "text/plain": [
       "WindowsPath('models/model_1.pkl')"
      ]
     },
     "execution_count": 13,
     "metadata": {},
     "output_type": "execute_result"
    }
   ],
   "source": [
    "model_path"
   ]
  },
  {
   "cell_type": "code",
   "execution_count": 14,
   "metadata": {},
   "outputs": [],
   "source": [
    "train_df[\"vectors\"] = get_vectorized_series(train_df[\"full_text\"].copy(), vectorizer)\n",
    "test_df[\"vectors\"] = get_vectorized_series(test_df[\"full_text\"].copy(), vectorizer)\n",
    "\n",
    "features = [\n",
    "                \"action_verb_full\",\n",
    "                \"question_mark_full\",\n",
    "                \"text_len\",\n",
    "                \"language_question\",\n",
    "            ]\n",
    "X_train, y_train = get_feature_vector_and_label(train_df, features)\n",
    "X_test, y_test = get_feature_vector_and_label(test_df, features)"
   ]
  },
  {
   "cell_type": "markdown",
   "metadata": {},
   "source": [
    "탑-k 방법을 사용해 조사    \n",
    "- 각 클래스에서 (높은 점수와 낮은 점수를 내는)k 개의 최상의 샘플\n",
    "- 각 클래스에서 k 개의 최악의 샘플\n",
    "- 모델 예측 확률이 0.5에 가까운 가장 불확실한 k개의 샘플"
   ]
  },
  {
   "cell_type": "code",
   "execution_count": 16,
   "metadata": {},
   "outputs": [],
   "source": [
    "test_analysis_df = test_df.copy()\n",
    "y_predicted_proba = clf.predict_proba(X_test)\n",
    "\n",
    "test_analysis_df[\"predicted_proba\"] = y_predicted_proba[:, 1]\n",
    "test_analysis_df[\"true_label\"] = y_test\n",
    "\n",
    "to_display = [\n",
    "    \"predicted_proba\",\n",
    "    \"true_label\",\n",
    "    \"Title\",\n",
    "    \"body_text\",\n",
    "    \"text_len\",\n",
    "    \"action_verb_full\",\n",
    "    \"question_mark_full\",\n",
    "    \"language_question\",\n",
    "]\n",
    "threshold = 0.5\n",
    "\n",
    "top_pos, top_neg, worst_pos, worst_neg, unsure = get_top_k(test_analysis_df, \"predicted_proba\", \"true_label\", k=2)\n",
    "pd.options.display.max_colwidth = 500"
   ]
  },
  {
   "cell_type": "code",
   "execution_count": 17,
   "metadata": {},
   "outputs": [
    {
     "data": {
      "text/html": [
       "<div>\n",
       "<style scoped>\n",
       "    .dataframe tbody tr th:only-of-type {\n",
       "        vertical-align: middle;\n",
       "    }\n",
       "\n",
       "    .dataframe tbody tr th {\n",
       "        vertical-align: top;\n",
       "    }\n",
       "\n",
       "    .dataframe thead th {\n",
       "        text-align: right;\n",
       "    }\n",
       "</style>\n",
       "<table border=\"1\" class=\"dataframe\">\n",
       "  <thead>\n",
       "    <tr style=\"text-align: right;\">\n",
       "      <th></th>\n",
       "      <th>predicted_proba</th>\n",
       "      <th>true_label</th>\n",
       "      <th>Title</th>\n",
       "      <th>body_text</th>\n",
       "      <th>text_len</th>\n",
       "      <th>action_verb_full</th>\n",
       "      <th>question_mark_full</th>\n",
       "      <th>language_question</th>\n",
       "    </tr>\n",
       "    <tr>\n",
       "      <th>Id</th>\n",
       "      <th></th>\n",
       "      <th></th>\n",
       "      <th></th>\n",
       "      <th></th>\n",
       "      <th></th>\n",
       "      <th></th>\n",
       "      <th></th>\n",
       "      <th></th>\n",
       "    </tr>\n",
       "  </thead>\n",
       "  <tbody>\n",
       "    <tr>\n",
       "      <th>529</th>\n",
       "      <td>0.72</td>\n",
       "      <td>True</td>\n",
       "      <td>How to make travel scenes interesting without adding needless plot diversions?</td>\n",
       "      <td>I have always had a problem with travel in my stories.  Since I'm writing an epic fantasy novel, travel is a big theme as characters often have to move from where they are to where the plot dictates.\\nHowever, one of the difficulties I have is that the travel itself is often not important to the plot.  In the novel I'm reading now (Wizard's First Rule by Terry Goodkind), there is a huge amount of travel, and the author adds needless encounters with various magical beasts just to keep tension...</td>\n",
       "      <td>1391</td>\n",
       "      <td>True</td>\n",
       "      <td>True</td>\n",
       "      <td>False</td>\n",
       "    </tr>\n",
       "    <tr>\n",
       "      <th>8335</th>\n",
       "      <td>0.72</td>\n",
       "      <td>True</td>\n",
       "      <td>What factors in fiction arouse readers' expectations?</td>\n",
       "      <td>Feedback from my writer's group tells me that my recent stories leave promises unfulfilled and important questions unanswered.\\nSo I've become interested in how stories make promises and raise questions.\\nSo I've identified a few factors that arouse readers' expectations.\\n\\nCharacter desire. If I put a desire into a character's mind (or words, or actions), readers expect the story to resolve the desire.\\nCharacter speculation. If a character speculates about some future event or condition, ...</td>\n",
       "      <td>1921</td>\n",
       "      <td>True</td>\n",
       "      <td>True</td>\n",
       "      <td>False</td>\n",
       "    </tr>\n",
       "  </tbody>\n",
       "</table>\n",
       "</div>"
      ],
      "text/plain": [
       "      predicted_proba  true_label  \\\n",
       "Id                                  \n",
       "529              0.72        True   \n",
       "8335             0.72        True   \n",
       "\n",
       "                                                                               Title  \\\n",
       "Id                                                                                     \n",
       "529   How to make travel scenes interesting without adding needless plot diversions?   \n",
       "8335                           What factors in fiction arouse readers' expectations?   \n",
       "\n",
       "                                                                                                                                                                                                                                                                                                                                                                                                                                                                                                                body_text  \\\n",
       "Id                                                                                                                                                                                                                                                                                                                                                                                                                                                                                                                          \n",
       "529   I have always had a problem with travel in my stories.  Since I'm writing an epic fantasy novel, travel is a big theme as characters often have to move from where they are to where the plot dictates.\\nHowever, one of the difficulties I have is that the travel itself is often not important to the plot.  In the novel I'm reading now (Wizard's First Rule by Terry Goodkind), there is a huge amount of travel, and the author adds needless encounters with various magical beasts just to keep tension...   \n",
       "8335  Feedback from my writer's group tells me that my recent stories leave promises unfulfilled and important questions unanswered.\\nSo I've become interested in how stories make promises and raise questions.\\nSo I've identified a few factors that arouse readers' expectations.\\n\\nCharacter desire. If I put a desire into a character's mind (or words, or actions), readers expect the story to resolve the desire.\\nCharacter speculation. If a character speculates about some future event or condition, ...   \n",
       "\n",
       "      text_len  action_verb_full  question_mark_full  language_question  \n",
       "Id                                                                       \n",
       "529       1391              True                True              False  \n",
       "8335      1921              True                True              False  "
      ]
     },
     "execution_count": 17,
     "metadata": {},
     "output_type": "execute_result"
    }
   ],
   "source": [
    "# 가장 올바르게 예측한 양성 샘플\n",
    "top_pos[to_display]"
   ]
  },
  {
   "cell_type": "code",
   "execution_count": 18,
   "metadata": {},
   "outputs": [
    {
     "data": {
      "text/html": [
       "<div>\n",
       "<style scoped>\n",
       "    .dataframe tbody tr th:only-of-type {\n",
       "        vertical-align: middle;\n",
       "    }\n",
       "\n",
       "    .dataframe tbody tr th {\n",
       "        vertical-align: top;\n",
       "    }\n",
       "\n",
       "    .dataframe thead th {\n",
       "        text-align: right;\n",
       "    }\n",
       "</style>\n",
       "<table border=\"1\" class=\"dataframe\">\n",
       "  <thead>\n",
       "    <tr style=\"text-align: right;\">\n",
       "      <th></th>\n",
       "      <th>predicted_proba</th>\n",
       "      <th>true_label</th>\n",
       "      <th>Title</th>\n",
       "      <th>body_text</th>\n",
       "      <th>text_len</th>\n",
       "      <th>action_verb_full</th>\n",
       "      <th>question_mark_full</th>\n",
       "      <th>language_question</th>\n",
       "    </tr>\n",
       "    <tr>\n",
       "      <th>Id</th>\n",
       "      <th></th>\n",
       "      <th></th>\n",
       "      <th></th>\n",
       "      <th></th>\n",
       "      <th></th>\n",
       "      <th></th>\n",
       "      <th></th>\n",
       "      <th></th>\n",
       "    </tr>\n",
       "  </thead>\n",
       "  <tbody>\n",
       "    <tr>\n",
       "      <th>16799</th>\n",
       "      <td>0.10</td>\n",
       "      <td>False</td>\n",
       "      <td>Capitalization of Open form Compound Words in Titles</td>\n",
       "      <td>What would be considered proper capitalization of open form compound words in titles?  Should the second part of the compound word be capitalized?  Why?\\nFor example, the capitalization for which title would be correct?\\n\\nCash flow Analysis Report\\n\\n--OR--\\n\\nCash Flow Analysis Report\\n\\nThanks!\\n</td>\n",
       "      <td>343</td>\n",
       "      <td>True</td>\n",
       "      <td>True</td>\n",
       "      <td>True</td>\n",
       "    </tr>\n",
       "    <tr>\n",
       "      <th>51092</th>\n",
       "      <td>0.11</td>\n",
       "      <td>False</td>\n",
       "      <td>Are illogical comparisons permitted?</td>\n",
       "      <td>\\n\"Clouds soared high into the sky like raging horses.\"\\n\\nHorses don't soar, but is it ok to use \"like raging horses\" after \"soar high into the sky\"? I am wondering if this kind of comparison is permitted. The direction is \"wrong\" and the verb is \"wrong\", so I am wondering if the use of like would be warranted and if another comparison should be used.\\n</td>\n",
       "      <td>389</td>\n",
       "      <td>True</td>\n",
       "      <td>True</td>\n",
       "      <td>False</td>\n",
       "    </tr>\n",
       "  </tbody>\n",
       "</table>\n",
       "</div>"
      ],
      "text/plain": [
       "       predicted_proba  true_label  \\\n",
       "Id                                   \n",
       "16799             0.10       False   \n",
       "51092             0.11       False   \n",
       "\n",
       "                                                      Title  \\\n",
       "Id                                                            \n",
       "16799  Capitalization of Open form Compound Words in Titles   \n",
       "51092                  Are illogical comparisons permitted?   \n",
       "\n",
       "                                                                                                                                                                                                                                                                                                                                                                  body_text  \\\n",
       "Id                                                                                                                                                                                                                                                                                                                                                                            \n",
       "16799                                                          What would be considered proper capitalization of open form compound words in titles?  Should the second part of the compound word be capitalized?  Why?\\nFor example, the capitalization for which title would be correct?\\n\\nCash flow Analysis Report\\n\\n--OR--\\n\\nCash Flow Analysis Report\\n\\nThanks!\\n   \n",
       "51092  \\n\"Clouds soared high into the sky like raging horses.\"\\n\\nHorses don't soar, but is it ok to use \"like raging horses\" after \"soar high into the sky\"? I am wondering if this kind of comparison is permitted. The direction is \"wrong\" and the verb is \"wrong\", so I am wondering if the use of like would be warranted and if another comparison should be used.\\n   \n",
       "\n",
       "       text_len  action_verb_full  question_mark_full  language_question  \n",
       "Id                                                                        \n",
       "16799       343              True                True               True  \n",
       "51092       389              True                True              False  "
      ]
     },
     "execution_count": 18,
     "metadata": {},
     "output_type": "execute_result"
    }
   ],
   "source": [
    "# 가장 올바르게 예측한 음성 샘플\n",
    "top_neg[to_display]"
   ]
  },
  {
   "cell_type": "markdown",
   "metadata": {},
   "source": [
    "올바르게 음성으로 예측한 샘플의 대부분이 길이가 짧다는 것을 확인할 수 있다.    \n",
    "좋은 점수를 받기 위해 질문의 길이가 중요한 특성 중 하나라는 것을 뒷받침한다."
   ]
  },
  {
   "cell_type": "code",
   "execution_count": 19,
   "metadata": {},
   "outputs": [
    {
     "data": {
      "text/html": [
       "<div>\n",
       "<style scoped>\n",
       "    .dataframe tbody tr th:only-of-type {\n",
       "        vertical-align: middle;\n",
       "    }\n",
       "\n",
       "    .dataframe tbody tr th {\n",
       "        vertical-align: top;\n",
       "    }\n",
       "\n",
       "    .dataframe thead th {\n",
       "        text-align: right;\n",
       "    }\n",
       "</style>\n",
       "<table border=\"1\" class=\"dataframe\">\n",
       "  <thead>\n",
       "    <tr style=\"text-align: right;\">\n",
       "      <th></th>\n",
       "      <th>predicted_proba</th>\n",
       "      <th>true_label</th>\n",
       "      <th>Title</th>\n",
       "      <th>body_text</th>\n",
       "      <th>text_len</th>\n",
       "      <th>action_verb_full</th>\n",
       "      <th>question_mark_full</th>\n",
       "      <th>language_question</th>\n",
       "    </tr>\n",
       "    <tr>\n",
       "      <th>Id</th>\n",
       "      <th></th>\n",
       "      <th></th>\n",
       "      <th></th>\n",
       "      <th></th>\n",
       "      <th></th>\n",
       "      <th></th>\n",
       "      <th></th>\n",
       "      <th></th>\n",
       "    </tr>\n",
       "  </thead>\n",
       "  <tbody>\n",
       "    <tr>\n",
       "      <th>42882</th>\n",
       "      <td>0.08</td>\n",
       "      <td>True</td>\n",
       "      <td>Capitlization of A Named Experiment</td>\n",
       "      <td>I have an experiment which we call 'the krypton experiment'.  In referring to the krypton experiment, should it be capitalized?\\ne.g.\\nThe Krypton Experiment was used as a source of benchmark data.\\nor\\nThe krypton experiment was used as a source of benchmark data.\\n</td>\n",
       "      <td>298</td>\n",
       "      <td>True</td>\n",
       "      <td>True</td>\n",
       "      <td>True</td>\n",
       "    </tr>\n",
       "    <tr>\n",
       "      <th>19760</th>\n",
       "      <td>0.09</td>\n",
       "      <td>True</td>\n",
       "      <td>Adding coding template in a Google blogger</td>\n",
       "      <td>I want to add a code viewer in Google Blogger like in image given below.\\nHow can I add it please help.\\n\\n</td>\n",
       "      <td>147</td>\n",
       "      <td>True</td>\n",
       "      <td>False</td>\n",
       "      <td>False</td>\n",
       "    </tr>\n",
       "  </tbody>\n",
       "</table>\n",
       "</div>"
      ],
      "text/plain": [
       "       predicted_proba  true_label  \\\n",
       "Id                                   \n",
       "42882             0.08        True   \n",
       "19760             0.09        True   \n",
       "\n",
       "                                            Title  \\\n",
       "Id                                                  \n",
       "42882         Capitlization of A Named Experiment   \n",
       "19760  Adding coding template in a Google blogger   \n",
       "\n",
       "                                                                                                                                                                                                                                                                         body_text  \\\n",
       "Id                                                                                                                                                                                                                                                                                   \n",
       "42882  I have an experiment which we call 'the krypton experiment'.  In referring to the krypton experiment, should it be capitalized?\\ne.g.\\nThe Krypton Experiment was used as a source of benchmark data.\\nor\\nThe krypton experiment was used as a source of benchmark data.\\n   \n",
       "19760                                                                                                                                                                  I want to add a code viewer in Google Blogger like in image given below.\\nHow can I add it please help.\\n\\n   \n",
       "\n",
       "       text_len  action_verb_full  question_mark_full  language_question  \n",
       "Id                                                                        \n",
       "42882       298              True                True               True  \n",
       "19760       147              True               False              False  "
      ]
     },
     "execution_count": 19,
     "metadata": {},
     "output_type": "execute_result"
    }
   ],
   "source": [
    "# 가장 틀리게 예측한 양성 샘플\n",
    "worst_pos[to_display]"
   ]
  },
  {
   "cell_type": "markdown",
   "metadata": {},
   "source": [
    "음성으로 잘못 예측한 양성 데이터의 경우 질문의 길이가 짧은 것을 확인할 수 있다.    \n",
    "=> 질문의 길이만으로는 올바르게 예측하는데 한계가 있음을 알 수 있다."
   ]
  },
  {
   "cell_type": "code",
   "execution_count": 20,
   "metadata": {},
   "outputs": [
    {
     "data": {
      "text/html": [
       "<div>\n",
       "<style scoped>\n",
       "    .dataframe tbody tr th:only-of-type {\n",
       "        vertical-align: middle;\n",
       "    }\n",
       "\n",
       "    .dataframe tbody tr th {\n",
       "        vertical-align: top;\n",
       "    }\n",
       "\n",
       "    .dataframe thead th {\n",
       "        text-align: right;\n",
       "    }\n",
       "</style>\n",
       "<table border=\"1\" class=\"dataframe\">\n",
       "  <thead>\n",
       "    <tr style=\"text-align: right;\">\n",
       "      <th></th>\n",
       "      <th>predicted_proba</th>\n",
       "      <th>true_label</th>\n",
       "      <th>Title</th>\n",
       "      <th>body_text</th>\n",
       "      <th>text_len</th>\n",
       "      <th>action_verb_full</th>\n",
       "      <th>question_mark_full</th>\n",
       "      <th>language_question</th>\n",
       "    </tr>\n",
       "    <tr>\n",
       "      <th>Id</th>\n",
       "      <th></th>\n",
       "      <th></th>\n",
       "      <th></th>\n",
       "      <th></th>\n",
       "      <th></th>\n",
       "      <th></th>\n",
       "      <th></th>\n",
       "      <th></th>\n",
       "    </tr>\n",
       "  </thead>\n",
       "  <tbody>\n",
       "    <tr>\n",
       "      <th>30420</th>\n",
       "      <td>0.72</td>\n",
       "      <td>False</td>\n",
       "      <td>Should I make my prologue chapter 1?</td>\n",
       "      <td>My prologue is set 17 years before the main story arc. I am reflecting on the discussion here, which was asked by another SE contributor. I'm trying to decide what to do with my prologue. Building a website for my world with minor character sketches, short stories, mythologies, etc and additional supplemental is one possibility. It could go there. Or,\\n\\nI can delete it entirely, and put any necessary points into the rest of the book. \\nI can leave it as the prologue, since that is my first ...</td>\n",
       "      <td>1658</td>\n",
       "      <td>True</td>\n",
       "      <td>True</td>\n",
       "      <td>False</td>\n",
       "    </tr>\n",
       "    <tr>\n",
       "      <th>56530</th>\n",
       "      <td>0.71</td>\n",
       "      <td>False</td>\n",
       "      <td>How do I manage audience expectations for a paranormal romance story?</td>\n",
       "      <td>A big part of writing is managing audience expectations, especially as it pertains to the genre. I.e., if a story is pitched as an action-adventure story, people expect a story of fight scenes and explosions; if it's pitched as a comedy they expect it to actually be funny; if it's pitched as a romance they expect to see true love and happily ever after. If the author pitches their story as one genre and it ends up spiraling into another...well, the audience feels betrayed and often throws th...</td>\n",
       "      <td>3312</td>\n",
       "      <td>True</td>\n",
       "      <td>True</td>\n",
       "      <td>False</td>\n",
       "    </tr>\n",
       "  </tbody>\n",
       "</table>\n",
       "</div>"
      ],
      "text/plain": [
       "       predicted_proba  true_label  \\\n",
       "Id                                   \n",
       "30420             0.72       False   \n",
       "56530             0.71       False   \n",
       "\n",
       "                                                                       Title  \\\n",
       "Id                                                                             \n",
       "30420                                   Should I make my prologue chapter 1?   \n",
       "56530  How do I manage audience expectations for a paranormal romance story?   \n",
       "\n",
       "                                                                                                                                                                                                                                                                                                                                                                                                                                                                                                                 body_text  \\\n",
       "Id                                                                                                                                                                                                                                                                                                                                                                                                                                                                                                                           \n",
       "30420  My prologue is set 17 years before the main story arc. I am reflecting on the discussion here, which was asked by another SE contributor. I'm trying to decide what to do with my prologue. Building a website for my world with minor character sketches, short stories, mythologies, etc and additional supplemental is one possibility. It could go there. Or,\\n\\nI can delete it entirely, and put any necessary points into the rest of the book. \\nI can leave it as the prologue, since that is my first ...   \n",
       "56530  A big part of writing is managing audience expectations, especially as it pertains to the genre. I.e., if a story is pitched as an action-adventure story, people expect a story of fight scenes and explosions; if it's pitched as a comedy they expect it to actually be funny; if it's pitched as a romance they expect to see true love and happily ever after. If the author pitches their story as one genre and it ends up spiraling into another...well, the audience feels betrayed and often throws th...   \n",
       "\n",
       "       text_len  action_verb_full  question_mark_full  language_question  \n",
       "Id                                                                        \n",
       "30420      1658              True                True              False  \n",
       "56530      3312              True                True              False  "
      ]
     },
     "execution_count": 20,
     "metadata": {},
     "output_type": "execute_result"
    }
   ],
   "source": [
    "# 가장 틀리게 예측한 음성 샘플\n",
    "worst_neg[to_display]"
   ]
  },
  {
   "cell_type": "markdown",
   "metadata": {},
   "source": [
    "앞서 잘못 예측한 양성 데이터와 마찬가지로 질문의 길이가 긴 음성 데이터를 양성으로 잘못 예측하는 경향을 확인할 수 있다."
   ]
  },
  {
   "cell_type": "code",
   "execution_count": 21,
   "metadata": {},
   "outputs": [
    {
     "data": {
      "text/html": [
       "<div>\n",
       "<style scoped>\n",
       "    .dataframe tbody tr th:only-of-type {\n",
       "        vertical-align: middle;\n",
       "    }\n",
       "\n",
       "    .dataframe tbody tr th {\n",
       "        vertical-align: top;\n",
       "    }\n",
       "\n",
       "    .dataframe thead th {\n",
       "        text-align: right;\n",
       "    }\n",
       "</style>\n",
       "<table border=\"1\" class=\"dataframe\">\n",
       "  <thead>\n",
       "    <tr style=\"text-align: right;\">\n",
       "      <th></th>\n",
       "      <th>predicted_proba</th>\n",
       "      <th>true_label</th>\n",
       "      <th>Title</th>\n",
       "      <th>body_text</th>\n",
       "      <th>text_len</th>\n",
       "      <th>action_verb_full</th>\n",
       "      <th>question_mark_full</th>\n",
       "      <th>language_question</th>\n",
       "    </tr>\n",
       "    <tr>\n",
       "      <th>Id</th>\n",
       "      <th></th>\n",
       "      <th></th>\n",
       "      <th></th>\n",
       "      <th></th>\n",
       "      <th></th>\n",
       "      <th></th>\n",
       "      <th></th>\n",
       "      <th></th>\n",
       "    </tr>\n",
       "  </thead>\n",
       "  <tbody>\n",
       "    <tr>\n",
       "      <th>10798</th>\n",
       "      <td>0.5</td>\n",
       "      <td>False</td>\n",
       "      <td>Is it better to follow some structure or just write following intuition</td>\n",
       "      <td>I have a plot in mind without any details. I am planning to write it down as a story and then a screenplay, without any background in writing or reading books but just watching movies. When going through online articles its seen that following certain structures for plots is useful and is widely followed by many.  One example is this.\\nNow I wonder if I should just write what comes to my mind or plan and do some homework and build the story methodologically. What usually works good in writin...</td>\n",
       "      <td>629</td>\n",
       "      <td>True</td>\n",
       "      <td>True</td>\n",
       "      <td>False</td>\n",
       "    </tr>\n",
       "    <tr>\n",
       "      <th>20317</th>\n",
       "      <td>0.5</td>\n",
       "      <td>False</td>\n",
       "      <td>How to give written advice in a way that is encouraging, not overbearing</td>\n",
       "      <td>How do we write something to inspire a person which corrects the mistakes they've made until now, but without making them feel like they're getting mocked from the recipient's perspective? \\nI was trying to write a text to a person younger to me in order to inspire him. Something just doesn't feel right in this paragraph. It doesn't evoke any positive feeling such as hope or inspiration from it. It appears kinda over-bearing and in part hurtful albeit being true. How can I improve and convey...</td>\n",
       "      <td>2472</td>\n",
       "      <td>True</td>\n",
       "      <td>True</td>\n",
       "      <td>False</td>\n",
       "    </tr>\n",
       "  </tbody>\n",
       "</table>\n",
       "</div>"
      ],
      "text/plain": [
       "       predicted_proba  true_label  \\\n",
       "Id                                   \n",
       "10798              0.5       False   \n",
       "20317              0.5       False   \n",
       "\n",
       "                                                                          Title  \\\n",
       "Id                                                                                \n",
       "10798   Is it better to follow some structure or just write following intuition   \n",
       "20317  How to give written advice in a way that is encouraging, not overbearing   \n",
       "\n",
       "                                                                                                                                                                                                                                                                                                                                                                                                                                                                                                                 body_text  \\\n",
       "Id                                                                                                                                                                                                                                                                                                                                                                                                                                                                                                                           \n",
       "10798  I have a plot in mind without any details. I am planning to write it down as a story and then a screenplay, without any background in writing or reading books but just watching movies. When going through online articles its seen that following certain structures for plots is useful and is widely followed by many.  One example is this.\\nNow I wonder if I should just write what comes to my mind or plan and do some homework and build the story methodologically. What usually works good in writin...   \n",
       "20317  How do we write something to inspire a person which corrects the mistakes they've made until now, but without making them feel like they're getting mocked from the recipient's perspective? \\nI was trying to write a text to a person younger to me in order to inspire him. Something just doesn't feel right in this paragraph. It doesn't evoke any positive feeling such as hope or inspiration from it. It appears kinda over-bearing and in part hurtful albeit being true. How can I improve and convey...   \n",
       "\n",
       "       text_len  action_verb_full  question_mark_full  language_question  \n",
       "Id                                                                        \n",
       "10798       629              True                True              False  \n",
       "20317      2472              True                True              False  "
      ]
     },
     "execution_count": 21,
     "metadata": {},
     "output_type": "execute_result"
    }
   ],
   "source": [
    "unsure[to_display]"
   ]
  },
  {
   "cell_type": "markdown",
   "metadata": {},
   "source": [
    "새로운 후보 특성을 찾기 위해 탑-k 방법과 특성 중요도, 벡터화 방법을 함께 사용하는 것이 추천된다."
   ]
  }
 ],
 "metadata": {
  "kernelspec": {
   "display_name": "ml-app",
   "language": "python",
   "name": "ml-app"
  },
  "language_info": {
   "codemirror_mode": {
    "name": "ipython",
    "version": 3
   },
   "file_extension": ".py",
   "mimetype": "text/x-python",
   "name": "python",
   "nbconvert_exporter": "python",
   "pygments_lexer": "ipython3",
   "version": "3.8.13"
  },
  "orig_nbformat": 4
 },
 "nbformat": 4,
 "nbformat_minor": 2
}
