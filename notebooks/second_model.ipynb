{
 "cells": [
  {
   "cell_type": "markdown",
   "metadata": {},
   "source": [
    "# 두 번째 모델 훈련하기"
   ]
  },
  {
   "cell_type": "code",
   "execution_count": 16,
   "metadata": {},
   "outputs": [
    {
     "name": "stdout",
     "output_type": "stream",
     "text": [
      "The autoreload extension is already loaded. To reload it, use:\n",
      "  %reload_ext autoreload\n"
     ]
    }
   ],
   "source": [
    "import pandas as pd\n",
    "import numpy as np\n",
    "import matplotlib.pyplot as plt\n",
    "from pathlib import Path\n",
    "from sklearn.ensemble import RandomForestClassifier\n",
    "from sklearn.metrics import accuracy_score, f1_score, precision_score, recall_score, classification_report\n",
    "import joblib\n",
    "import sys\n",
    "sys.path.append(\"..\")\n",
    "import warnings\n",
    "warnings.filterwarnings('ignore')\n",
    "\n",
    "%load_ext autoreload\n",
    "%autoreload 2\n",
    "np.random.seed(35)\n",
    "\n",
    "from ml_editor.data_processing import (\n",
    "    format_raw_df,\n",
    "    get_split_by_author,\n",
    "    train_vectorizer, \n",
    "    get_vectorized_series,\n",
    "    get_feature_vector_and_label,\n",
    "    add_text_features_to_df\n",
    ")\n",
    "from ml_editor.model_evaluation import (\n",
    "    get_feature_importance,\n",
    "    get_roc_plot,\n",
    "    get_confusion_matrix_plot,\n",
    "    get_calibration_plot\n",
    ")\n",
    "\n",
    "from ml_editor.model_v2 import (\n",
    "    add_char_count_features, \n",
    "    get_word_stats, \n",
    "    get_sentiment_score, \n",
    "    POS_NAMES,\n",
    "    get_question_score_from_input,\n",
    "    add_v2_text_features\n",
    ")\n",
    "\n",
    "data_path = Path('./data/processed/writers/writers.csv')\n",
    "df = pd.read_csv(data_path, index_col=0)\n",
    "df = format_raw_df(df.copy())\n",
    "df = df.loc[df[\"is_question\"]].copy()"
   ]
  },
  {
   "cell_type": "code",
   "execution_count": 17,
   "metadata": {},
   "outputs": [
    {
     "name": "stderr",
     "output_type": "stream",
     "text": [
      "100%|████████████████████████████████████████████████████████████████████████████| 11302/11302 [07:08<00:00, 26.41it/s]\n",
      "100%|███████████████████████████████████████████████████████████████████████████| 11302/11302 [00:24<00:00, 454.03it/s]\n"
     ]
    }
   ],
   "source": [
    "#df = add_text_features_to_df(df.copy())\n",
    "#df = add_v2_text_features(df.copy())\n",
    "#df.to_csv(\"./data/processed/writers/writers_with_features.csv\")"
   ]
  },
  {
   "cell_type": "code",
   "execution_count": 19,
   "metadata": {},
   "outputs": [],
   "source": [
    "df[\"full_text\"] = df[\"Title\"].str.cat(df[\"body_text\"], sep=\" \", na_rep=\"\")\n"
   ]
  },
  {
   "cell_type": "markdown",
   "metadata": {},
   "source": [
    "새로운 모델에 도움이 될만한 후보 특성을 추가한다."
   ]
  },
  {
   "cell_type": "code",
   "execution_count": 7,
   "metadata": {},
   "outputs": [],
   "source": [
    "train_df, test_df = get_split_by_author(df, test_size=0.2, random_state=40)"
   ]
  },
  {
   "cell_type": "code",
   "execution_count": 8,
   "metadata": {},
   "outputs": [],
   "source": [
    "vectorizer = train_vectorizer(train_df)\n",
    "df[\"vectors\"] = get_vectorized_series(df[\"full_text\"].copy(), vectorizer)"
   ]
  },
  {
   "cell_type": "code",
   "execution_count": 9,
   "metadata": {},
   "outputs": [
    {
     "name": "stderr",
     "output_type": "stream",
     "text": [
      "100%|████████████████████████████████████████████████████████████████████████████| 11302/11302 [06:02<00:00, 31.21it/s]\n",
      "100%|███████████████████████████████████████████████████████████████████████████| 11302/11302 [00:22<00:00, 494.73it/s]\n"
     ]
    }
   ],
   "source": [
    "df = add_char_count_features(df.copy())\n",
    "df = get_word_stats(df.copy())\n",
    "df = get_sentiment_score(df.copy())"
   ]
  },
  {
   "cell_type": "code",
   "execution_count": 6,
   "metadata": {},
   "outputs": [],
   "source": [
    "feature_arr = [\"num_questions\", \n",
    "               \"num_periods\",\n",
    "               \"num_commas\",\n",
    "               \"num_exclam\",\n",
    "               \"num_quotes\",\n",
    "               \"num_colon\",\n",
    "               \"num_stops\",\n",
    "               \"num_semicolon\",\n",
    "               \"num_words\",\n",
    "               \"num_chars\",\n",
    "               \"num_diff_words\",\n",
    "               \"avg_word_len\",\n",
    "               \"polarity\"\n",
    "              ]\n",
    "feature_arr.extend(POS_NAMES.keys())"
   ]
  },
  {
   "cell_type": "markdown",
   "metadata": {},
   "source": [
    "# 모델"
   ]
  },
  {
   "cell_type": "code",
   "execution_count": 7,
   "metadata": {},
   "outputs": [],
   "source": [
    "# 특성을 새로 추가했으므로 데이터셋을 다시 나눕니다.\n",
    "train_df, test_df = get_split_by_author(df, test_size=0.2, random_state=40)"
   ]
  },
  {
   "cell_type": "code",
   "execution_count": 8,
   "metadata": {},
   "outputs": [],
   "source": [
    "X_train, y_train = get_feature_vector_and_label(train_df, feature_arr)\n",
    "X_test, y_test = get_feature_vector_and_label(test_df, feature_arr)"
   ]
  },
  {
   "cell_type": "code",
   "execution_count": 9,
   "metadata": {},
   "outputs": [
    {
     "data": {
      "text/plain": [
       "False    5239\n",
       "True     3985\n",
       "Name: Score, dtype: int64"
      ]
     },
     "execution_count": 9,
     "metadata": {},
     "output_type": "execute_result"
    }
   ],
   "source": [
    "y_train.value_counts()"
   ]
  },
  {
   "cell_type": "code",
   "execution_count": 10,
   "metadata": {},
   "outputs": [
    {
     "data": {
      "text/plain": [
       "(2078, 9496)"
      ]
     },
     "execution_count": 10,
     "metadata": {},
     "output_type": "execute_result"
    }
   ],
   "source": [
    "X_test.shape"
   ]
  },
  {
   "cell_type": "code",
   "execution_count": 11,
   "metadata": {},
   "outputs": [],
   "source": [
    "clf = RandomForestClassifier(n_estimators=100, class_weight='balanced', oob_score=True)\n",
    "clf.fit(X_train, y_train)\n",
    "\n",
    "y_predicted = clf.predict(X_test)\n",
    "y_predicted_proba = clf.predict_proba(X_test)"
   ]
  },
  {
   "cell_type": "code",
   "execution_count": 12,
   "metadata": {},
   "outputs": [
    {
     "name": "stdout",
     "output_type": "stream",
     "text": [
      "훈련 정확도 = 0.609, 정밀도 = 0.572, recall = 0.378, f1 = 0.455\n"
     ]
    }
   ],
   "source": [
    "def get_metrics(y_test, y_predicted):  \n",
    "    # 진짜 양성 / (진짜 양성 + 가짜 양성)\n",
    "    precision = precision_score(y_test, y_predicted, pos_label=True,\n",
    "                                    average='binary')             \n",
    "    # 진짜 양성 / (진짜 양성 + 가짜 음성)\n",
    "    recall = recall_score(y_test, y_predicted, pos_label=True,\n",
    "                              average='binary')\n",
    "    \n",
    "    # 정밀도와 재현율의 조화 평균\n",
    "    f1 = f1_score(y_test, y_predicted, pos_label=True, average='binary')\n",
    "    \n",
    "    # 진짜 양성 + 진짜 음성 / 전체\n",
    "    accuracy = accuracy_score(y_test, y_predicted)\n",
    "    return accuracy, precision, recall, f1\n",
    "\n",
    "\n",
    "# 훈련 정확도\n",
    "# https://datascience.stackexchange.com/questions/13151/randomforestclassifier-oob-scoring-method 참고\n",
    "y_train_pred = np.argmax(clf.oob_decision_function_,axis=1)\n",
    "\n",
    "accuracy, precision, recall, f1 = get_metrics(y_train, y_train_pred)\n",
    "print(\"훈련 정확도 = %.3f, 정밀도 = %.3f, recall = %.3f, f1 = %.3f\" % (accuracy, precision, recall, f1))"
   ]
  },
  {
   "cell_type": "code",
   "execution_count": 13,
   "metadata": {},
   "outputs": [
    {
     "name": "stdout",
     "output_type": "stream",
     "text": [
      "검증 정확도 = 0.621, 정밀도 = 0.593, recall = 0.381, f1 = 0.464\n"
     ]
    }
   ],
   "source": [
    "accuracy, precision, recall, f1 = get_metrics(y_test, y_predicted)\n",
    "print(\"검증 정확도 = %.3f, 정밀도 = %.3f, recall = %.3f, f1 = %.3f\" % (accuracy, precision, recall, f1))"
   ]
  },
  {
   "cell_type": "code",
   "execution_count": 14,
   "metadata": {},
   "outputs": [
    {
     "data": {
      "text/plain": [
       "['models\\\\vectorizer_2.pkl']"
      ]
     },
     "execution_count": 14,
     "metadata": {},
     "output_type": "execute_result"
    }
   ],
   "source": [
    "model_path = Path(\"./models/model_2.pkl\")\n",
    "vectorizer_path = Path(\"./models/vectorizer_2.pkl\")\n",
    "joblib.dump(clf, model_path) \n",
    "joblib.dump(vectorizer, vectorizer_path) "
   ]
  },
  {
   "cell_type": "markdown",
   "metadata": {},
   "source": [
    "# 특성의 유용성 검증"
   ]
  },
  {
   "cell_type": "code",
   "execution_count": 15,
   "metadata": {},
   "outputs": [],
   "source": [
    "# vectorize를 통해 생성된 feature + 추가한 feature\n",
    "w_indices = vectorizer.get_feature_names()\n",
    "w_indices.extend(feature_arr)\n",
    "all_feature_names = np.array(w_indices)"
   ]
  },
  {
   "cell_type": "code",
   "execution_count": 16,
   "metadata": {},
   "outputs": [
    {
     "data": {
      "text/plain": [
       "[What,\n",
       " are,\n",
       " some,\n",
       " online,\n",
       " guides,\n",
       " for,\n",
       " starting,\n",
       " writers,\n",
       " ?,\n",
       " I,\n",
       " 've,\n",
       " always,\n",
       " wanted,\n",
       " to,\n",
       " start,\n",
       " writing,\n",
       " (,\n",
       " in,\n",
       " a,\n",
       " totally,\n",
       " amateur,\n",
       " way,\n",
       " ),\n",
       " ,,\n",
       " but,\n",
       " whenever,\n",
       " I,\n",
       " want,\n",
       " to,\n",
       " start,\n",
       " something,\n",
       " I,\n",
       " instantly,\n",
       " get,\n",
       " blocked,\n",
       " having,\n",
       " a,\n",
       " lot,\n",
       " of,\n",
       " questions,\n",
       " and,\n",
       " doubts,\n",
       " .,\n",
       " ,\n",
       " Are,\n",
       " there,\n",
       " some,\n",
       " resources,\n",
       " on,\n",
       " how,\n",
       " to,\n",
       " start,\n",
       " becoming,\n",
       " a,\n",
       " writer,\n",
       " ?,\n",
       " ,\n",
       " I,\n",
       " 'm,\n",
       " thinking,\n",
       " something,\n",
       " with,\n",
       " tips,\n",
       " and,\n",
       " easy,\n",
       " exercises,\n",
       " to,\n",
       " get,\n",
       " the,\n",
       " ball,\n",
       " rolling,\n",
       " .,\n",
       " ]"
      ]
     },
     "execution_count": 16,
     "metadata": {},
     "output_type": "execute_result"
    }
   ],
   "source": [
    "list(df[\"spacy_text\"][1])"
   ]
  },
  {
   "cell_type": "code",
   "execution_count": 17,
   "metadata": {},
   "outputs": [
    {
     "data": {
      "text/plain": [
       "['PRON',\n",
       " 'AUX',\n",
       " 'DET',\n",
       " 'ADJ',\n",
       " 'NOUN',\n",
       " 'ADP',\n",
       " 'VERB',\n",
       " 'NOUN',\n",
       " 'PUNCT',\n",
       " 'PRON',\n",
       " 'AUX',\n",
       " 'ADV',\n",
       " 'VERB',\n",
       " 'PART',\n",
       " 'VERB',\n",
       " 'VERB',\n",
       " 'PUNCT',\n",
       " 'ADP',\n",
       " 'DET',\n",
       " 'ADV',\n",
       " 'ADJ',\n",
       " 'NOUN',\n",
       " 'PUNCT',\n",
       " 'PUNCT',\n",
       " 'CCONJ',\n",
       " 'ADV',\n",
       " 'PRON',\n",
       " 'VERB',\n",
       " 'PART',\n",
       " 'VERB',\n",
       " 'PRON',\n",
       " 'PRON',\n",
       " 'ADV',\n",
       " 'VERB',\n",
       " 'VERB',\n",
       " 'VERB',\n",
       " 'DET',\n",
       " 'NOUN',\n",
       " 'ADP',\n",
       " 'NOUN',\n",
       " 'CCONJ',\n",
       " 'NOUN',\n",
       " 'PUNCT',\n",
       " 'SPACE',\n",
       " 'AUX',\n",
       " 'PRON',\n",
       " 'DET',\n",
       " 'NOUN',\n",
       " 'ADP',\n",
       " 'ADV',\n",
       " 'PART',\n",
       " 'VERB',\n",
       " 'VERB',\n",
       " 'DET',\n",
       " 'NOUN',\n",
       " 'PUNCT',\n",
       " 'SPACE',\n",
       " 'PRON',\n",
       " 'AUX',\n",
       " 'VERB',\n",
       " 'PRON',\n",
       " 'ADP',\n",
       " 'NOUN',\n",
       " 'CCONJ',\n",
       " 'ADJ',\n",
       " 'NOUN',\n",
       " 'PART',\n",
       " 'AUX',\n",
       " 'DET',\n",
       " 'NOUN',\n",
       " 'NOUN',\n",
       " 'PUNCT',\n",
       " 'SPACE']"
      ]
     },
     "execution_count": 17,
     "metadata": {},
     "output_type": "execute_result"
    }
   ],
   "source": [
    "[token.pos_ for token in df[\"spacy_text\"][1]]"
   ]
  },
  {
   "cell_type": "code",
   "execution_count": 18,
   "metadata": {},
   "outputs": [
    {
     "name": "stdout",
     "output_type": "stream",
     "text": [
      "상위 20개 중요도:\n",
      "\n",
      "num_chars: 0.0076\n",
      "num_diff_words: 0.0073\n",
      "num_periods: 0.007\n",
      "num_questions: 0.0068\n",
      "ADJ: 0.0066\n",
      "ADV: 0.0065\n",
      "PUNCT: 0.0064\n",
      "num_commas: 0.0063\n",
      "DET: 0.0061\n",
      "AUX: 0.0059\n",
      "avg_word_len: 0.0059\n",
      "VERB: 0.0059\n",
      "NOUN: 0.0056\n",
      "polarity: 0.0056\n",
      "ADP: 0.0055\n",
      "SCONJ: 0.0055\n",
      "num_stops: 0.0054\n",
      "num_words: 0.0053\n",
      "PART: 0.0053\n",
      "PRON: 0.0052\n",
      "\n",
      "하위 20개 중요도:\n",
      "\n",
      "plug: 0\n",
      "prefers: 0\n",
      "closure: 0\n",
      "climaxes: 0\n",
      "preaching: 0\n",
      "pray: 0\n",
      "clip: 0\n",
      "pr: 0\n",
      "powerless: 0\n",
      "closeness: 0\n",
      "cloth: 0\n",
      "coherence: 0\n",
      "posing: 0\n",
      "portrayals: 0\n",
      "pond: 0\n",
      "cms: 0\n",
      "coastal: 0\n",
      "poking: 0\n",
      "coding: 0\n",
      "pitched: 0\n"
     ]
    }
   ],
   "source": [
    "k = 20\n",
    "print(\"상위 %s개 중요도:\\n\" % k)\n",
    "print('\\n'.join([\"%s: %.2g\" % (tup[0], tup[1]) for tup in get_feature_importance(clf, all_feature_names)[:k]]))\n",
    "\n",
    "print(\"\\n하위 %s개 중요도:\\n\" % k)\n",
    "print('\\n'.join([\"%s: %.2g\" % (tup[0], tup[1]) for tup in get_feature_importance(clf, all_feature_names)[-k:]]))"
   ]
  },
  {
   "cell_type": "markdown",
   "metadata": {},
   "source": [
    "새로 만든 특성이 가장 예측 성능이 좋은 편인 것을 확인할 수 있다.     \n",
    "반대로 TF-IDF 벡터화로 얻은 단어 벡터는 특별히 도움이 되지 않는다."
   ]
  },
  {
   "cell_type": "markdown",
   "metadata": {},
   "source": [
    "# 예측과 데이터 비교하기"
   ]
  },
  {
   "cell_type": "code",
   "execution_count": 19,
   "metadata": {},
   "outputs": [
    {
     "data": {
      "image/png": "[encoded data removed]",
      "text/plain": [
       "<Figure size 720x720 with 1 Axes>"
      ]
     },
     "metadata": {
      "needs_background": "light"
     },
     "output_type": "display_data"
    }
   ],
   "source": [
    "get_roc_plot(y_predicted_proba[:,1], y_test, figsize=(10,10))"
   ]
  },
  {
   "cell_type": "code",
   "execution_count": 20,
   "metadata": {},
   "outputs": [
    {
     "data": {
      "image/png": "[encoded data removed]",
      "text/plain": [
       "<Figure size 648x648 with 2 Axes>"
      ]
     },
     "metadata": {
      "needs_background": "light"
     },
     "output_type": "display_data"
    }
   ],
   "source": [
    "get_confusion_matrix_plot(y_predicted, y_test, figsize=(9, 9))"
   ]
  },
  {
   "cell_type": "code",
   "execution_count": 21,
   "metadata": {},
   "outputs": [
    {
     "name": "stderr",
     "output_type": "stream",
     "text": [
      "No artists with labels found to put in legend.  Note that artists whose label start with an underscore are ignored when legend() is called with no argument.\n"
     ]
    },
    {
     "name": "stdout",
     "output_type": "stream",
     "text": [
      "\tBrier: 0.231\n"
     ]
    },
    {
     "data": {
      "image/png": "[encoded data removed]",
      "text/plain": [
       "<Figure size 648x648 with 2 Axes>"
      ]
     },
     "metadata": {
      "needs_background": "light"
     },
     "output_type": "display_data"
    }
   ],
   "source": [
    "get_calibration_plot(y_predicted_proba[:,1], y_test, figsize=(9,9))"
   ]
  },
  {
   "cell_type": "markdown",
   "metadata": {},
   "source": [
    "# 추론 함수"
   ]
  },
  {
   "cell_type": "markdown",
   "metadata": {},
   "source": [
    "첫 번째 모델과 마찬가지로 임의의 질문을 받고 높은 점수를 받을 추정 확률을 출력하는 추론 함수를 정의"
   ]
  },
  {
   "cell_type": "code",
   "execution_count": 22,
   "metadata": {},
   "outputs": [
    {
     "name": "stderr",
     "output_type": "stream",
     "text": [
      "100%|████████████████████████████████████████████████████████████████████████████████████| 1/1 [00:00<00:00, 83.56it/s]\n",
      "100%|██████████████████████████████████████████████████████████████████████████████████| 1/1 [00:00<00:00, 1002.22it/s]"
     ]
    },
    {
     "name": "stdout",
     "output_type": "stream",
     "text": [
      "0.26 probability of the question receiving a high score according to our model\n"
     ]
    },
    {
     "name": "stderr",
     "output_type": "stream",
     "text": [
      "\n"
     ]
    }
   ],
   "source": [
    "pos_prob = get_question_score_from_input(\"\"\"\n",
    "When quoting a person's informal speech, how much liberty do you have to make changes to what they say?\n",
    "\"\"\")\n",
    "\n",
    "print(\"%s probability of the question receiving a high score according to our model\" % (pos_prob))"
   ]
  }
 ],
 "metadata": {
  "kernelspec": {
   "display_name": "ml-app",
   "language": "python",
   "name": "ml-app"
  },
  "language_info": {
   "codemirror_mode": {
    "name": "ipython",
    "version": 3
   },
   "file_extension": ".py",
   "mimetype": "text/x-python",
   "name": "python",
   "nbconvert_exporter": "python",
   "pygments_lexer": "ipython3",
   "version": "3.8.13"
  },
  "orig_nbformat": 4
 },
 "nbformat": 4,
 "nbformat_minor": 2
}
