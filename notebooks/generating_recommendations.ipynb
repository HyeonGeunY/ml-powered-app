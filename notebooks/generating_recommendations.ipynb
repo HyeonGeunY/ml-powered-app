{
 "cells": [
  {
   "cell_type": "markdown",
   "metadata": {},
   "source": [
    "# 추천 생성"
   ]
  },
  {
   "cell_type": "markdown",
   "metadata": {},
   "source": [
    "훈련된 모델을 사용해 추천을 생성한다 아래 세가지 방법을 다룬다.\n",
    "- 모델 점수\n",
    "- 전역 특성 중요도\n",
    "- 지역 특성 중요도"
   ]
  },
  {
   "cell_type": "code",
   "execution_count": null,
   "metadata": {},
   "outputs": [],
   "source": []
  }
 ],
 "metadata": {
  "kernelspec": {
   "display_name": "ml-app",
   "language": "python",
   "name": "ml-app"
  },
  "orig_nbformat": 4
 },
 "nbformat": 4,
 "nbformat_minor": 2
}
